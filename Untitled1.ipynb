{
  "nbformat": 4,
  "nbformat_minor": 0,
  "metadata": {
    "colab": {
      "name": "Untitled1.ipynb",
      "provenance": [],
      "authorship_tag": "ABX9TyMPr/19F+VTszwxGSI9xakq",
      "include_colab_link": true
    },
    "kernelspec": {
      "name": "python3",
      "display_name": "Python 3"
    },
    "language_info": {
      "name": "python"
    }
  },
  "cells": [
    {
      "cell_type": "markdown",
      "metadata": {
        "id": "view-in-github",
        "colab_type": "text"
      },
      "source": [
        "<a href=\"https://colab.research.google.com/github/franly1997/project001/blob/projectfile01/Untitled1.ipynb\" target=\"_parent\"><img src=\"https://colab.research.google.com/assets/colab-badge.svg\" alt=\"Open In Colab\"/></a>"
      ]
    },
    {
      "cell_type": "code",
      "metadata": {
        "id": "rEo8u6j9xE28"
      },
      "source": [
        "import requests\n",
        "import os\n",
        "from datetime import datetime\n",
        "\n",
        "api_key = 'c2b239fe9604e24be9dc85e77e742ff2'\n",
        "location = input(\" Enter the city name : \")\n",
        "\n",
        "complete_api_link = \"https://api.openweathermap.org/data/2.5/weather?q=\"+location+\"&appid=\"+api_key\n",
        "api_link = requests.get(complete_api_link)\n",
        "api_data = api_link.json()\n",
        "\n",
        "\n",
        "temp_city = ((api_data['main']['temp']) - 273.15)\n",
        "weather_desc = api_data['weather'][0]['description']\n",
        "humidity = api_data['main']['humidity']\n",
        "wind_speed = api_data['wind']['speed']\n",
        "date_time = datetime.now().strftime(\"%d %b %Y | %I:%M:%S %p\")\n",
        "\n",
        "print (\" ________________________________________________________________ \")\n",
        "print (\" Weather Stats for - {}  || {} \".format(location.upper(), date_time))\n",
        "print (\" ________________________________________________________________ \")\n",
        "\n",
        "print (\" # Current temperature is       : {:.2f} deg C \".format(temp_city))\n",
        "print (\" # Current weather description  : \", weather_desc)\n",
        "print (\" # Current Humidity             : \", humidity, '%')\n",
        "print (\" # Current wind speed           : \", wind_speed ,'kmph') \n",
        "\n",
        "with open('File01.txt', 'w') as f:\n",
        " f.write(\"city: \"+location+\"\\n\"+\"Temperature :\"+str(temp_city)+\"\\nWeather Description :\"+weather_desc+\"\\nHumidity :\"+str(humidity)+\" %\"+\"\\nWind speed :\"+str(wind_speed)+str(wind_speed)+\" kmph\")"
      ],
      "execution_count": null,
      "outputs": []
    }
  ]
}